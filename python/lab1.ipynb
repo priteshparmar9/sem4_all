{
 "cells": [
  {
   "cell_type": "code",
   "execution_count": 4,
   "metadata": {},
   "outputs": [
    {
     "name": "stdout",
     "output_type": "stream",
     "text": [
      "1\n",
      "1000\n",
      "3\n",
      "3.3333333333333335\n"
     ]
    }
   ],
   "source": [
    "a = 10\n",
    "b = 3\n",
    "print(a%b)\n",
    "print(a**b)\n",
    "print(a//b)\n",
    "print(a/b)"
   ]
  },
  {
   "cell_type": "code",
   "execution_count": 22,
   "metadata": {},
   "outputs": [
    {
     "name": "stdout",
     "output_type": "stream",
     "text": [
      "1020\n"
     ]
    }
   ],
   "source": [
    "a = \"10\"\n",
    "b = \"20\"\n",
    "a = a + b\n",
    "print(a)"
   ]
  },
  {
   "cell_type": "code",
   "execution_count": 35,
   "metadata": {},
   "outputs": [
    {
     "name": "stdout",
     "output_type": "stream",
     "text": [
      "1 2 3 4 5 6 7 8 9 10 "
     ]
    }
   ],
   "source": [
    "for i in range(1,11):\n",
    "    print(i, end=\" \")\n",
    "    # pass"
   ]
  },
  {
   "cell_type": "code",
   "execution_count": null,
   "metadata": {},
   "outputs": [],
   "source": [
    "for letter in \"HEllo world\":\n",
    "    if letter == 'l':\n",
    "        continue\n",
    "    print(letter)"
   ]
  },
  {
   "cell_type": "code",
   "execution_count": 48,
   "metadata": {},
   "outputs": [
    {
     "name": "stdout",
     "output_type": "stream",
     "text": [
      "1 is positive number.\n"
     ]
    }
   ],
   "source": [
    "num = (input(\"Enter a number: \"))\n",
    "if int(num) > 0:\n",
    "    print(num + \" is positive number.\")"
   ]
  },
  {
   "cell_type": "code",
   "execution_count": 50,
   "metadata": {},
   "outputs": [
    {
     "name": "stdout",
     "output_type": "stream",
     "text": [
      "scdsf\n"
     ]
    }
   ],
   "source": [
    "average = input(\"Enter average marks: \")\n",
    "if int(average) > 40:\n",
    "    print(\"neanwe\")\n",
    "else:\n",
    "    print(\"scdsf\")"
   ]
  },
  {
   "cell_type": "code",
   "execution_count": 1,
   "metadata": {},
   "outputs": [],
   "source": [
    "a = 5\n",
    "if a > 0:\n",
    "    if a % 2==0:\n",
    "        print(\"hregfkr\")"
   ]
  },
  {
   "cell_type": "code",
   "execution_count": 18,
   "metadata": {},
   "outputs": [
    {
     "name": "stdout",
     "output_type": "stream",
     "text": [
      "0b10111"
     ]
    }
   ],
   "source": [
    "n = input(\"Enter a number\")\n",
    "mod = int(n) % 64\n",
    "def bin(n):\n",
    "    if(n > 1):\n",
    "        bin(n // 2)\n",
    "    print(n%2,end=\"\")\n",
    "print(\"0b\",end=\"\")\n",
    "bin(mod)"
   ]
  },
  {
   "cell_type": "code",
   "execution_count": 40,
   "metadata": {},
   "outputs": [
    {
     "name": "stdout",
     "output_type": "stream",
     "text": [
      "Entered number is not a prime number\n"
     ]
    }
   ],
   "source": [
    "def is_prime(n):\n",
    "    flag = True\n",
    "    if n % 2 == 0 and n != 2:\n",
    "        return False\n",
    "    else:\n",
    "        i = 3\n",
    "        while i < n:\n",
    "            if n % i == 0:\n",
    "                flag = False\n",
    "                break\n",
    "            i = i + 1\n",
    "        return flag\n",
    "\n",
    "num = input(\"Enter a number\")\n",
    "if is_prime(int(num)):\n",
    "    print(\"Entered number is a prime number\")\n",
    "else:\n",
    "    print(\"Entered number is not a prime number\")"
   ]
  },
  {
   "cell_type": "code",
   "execution_count": 47,
   "metadata": {},
   "outputs": [],
   "source": [
    "fo = open(\"1.cpp\",\"a\")\n",
    "fo.write(\"#include <iostream>\")\n",
    "fo.close()"
   ]
  },
  {
   "cell_type": "code",
   "execution_count": 57,
   "metadata": {},
   "outputs": [
    {
     "name": "stdout",
     "output_type": "stream",
     "text": [
      "[1, 5, 10, 20]\n",
      "[1, 5, 10, 20]\n"
     ]
    }
   ],
   "source": [
    "my_list = [1,10, 20, 5]\n",
    "my_list.sort()\n",
    "print(my_list)\n",
    "a = my_list.copy()\n",
    "print(a)"
   ]
  },
  {
   "cell_type": "code",
   "execution_count": 60,
   "metadata": {},
   "outputs": [
    {
     "name": "stdout",
     "output_type": "stream",
     "text": [
      "1\n",
      "3\n",
      "hello\n"
     ]
    }
   ],
   "source": [
    "toup = 1,3,\"hello\"\n",
    "for i in toup:\n",
    "    print(i)"
   ]
  },
  {
   "cell_type": "code",
   "execution_count": 62,
   "metadata": {},
   "outputs": [
    {
     "name": "stdout",
     "output_type": "stream",
     "text": [
      "{1, 2, 4, 5, 6}\n"
     ]
    }
   ],
   "source": [
    "s = {1,2,4,5}\n",
    "s.add(6)\n",
    "print(s)"
   ]
  },
  {
   "cell_type": "code",
   "execution_count": 65,
   "metadata": {},
   "outputs": [
    {
     "name": "stdout",
     "output_type": "stream",
     "text": [
      "pritesh : 123123\n",
      "miten : 1324\n"
     ]
    }
   ],
   "source": [
    "numbers = {'pritesh':123123, 'miten':1324}\n",
    "for i in numbers:\n",
    "    print(i + \" : \" + str(numbers[i]))"
   ]
  }
 ],
 "metadata": {
  "interpreter": {
   "hash": "13b4274da59e80917a37b70d1a29470001091e95346150ad9c3ca8cf40043c4d"
  },
  "kernelspec": {
   "display_name": "Python 3.10.1 64-bit",
   "language": "python",
   "name": "python3"
  },
  "language_info": {
   "codemirror_mode": {
    "name": "ipython",
    "version": 3
   },
   "file_extension": ".py",
   "mimetype": "text/x-python",
   "name": "python",
   "nbconvert_exporter": "python",
   "pygments_lexer": "ipython3",
   "version": "3.10.1"
  },
  "orig_nbformat": 4
 },
 "nbformat": 4,
 "nbformat_minor": 2
}
